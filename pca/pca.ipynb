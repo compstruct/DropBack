{
 "cells": [
  {
   "cell_type": "code",
   "execution_count": 48,
   "metadata": {},
   "outputs": [],
   "source": [
    "import matplotlib.pyplot as plt\n",
    "from sklearn.decomposition import PCA\n",
    "import numpy as np\n",
    "from mpl_toolkits.mplot3d import Axes3D\n"
   ]
  },
  {
   "cell_type": "code",
   "execution_count": 49,
   "metadata": {},
   "outputs": [],
   "source": [
    "def pca(raw_data, label, color):\n",
    "    pca = PCA(n_components=3)\n",
    "    pca.fit(raw_data)\n",
    "    data = pca.transform(raw_data)\n",
    "    ax.plot(data[:, 0], data[:, 1], data[:, 2], label=label, color=color)\n"
   ]
  },
  {
   "cell_type": "code",
   "execution_count": 50,
   "metadata": {},
   "outputs": [],
   "source": [
    "def merge(format_str, iterations):\n",
    "    return [np.load(format_str.format(i))['arr_0'] for i in range(0, iterations, 100)]"
   ]
  },
  {
   "cell_type": "code",
   "execution_count": null,
   "metadata": {},
   "outputs": [],
   "source": [
    "def l2(raw_data, )"
   ]
  },
  {
   "cell_type": "code",
   "execution_count": 51,
   "metadata": {},
   "outputs": [],
   "source": [
    "fig = plt.figure()\n",
    "ax = fig.add_subplot(111, projection='3d')\n"
   ]
  },
  {
   "cell_type": "code",
   "execution_count": 52,
   "metadata": {},
   "outputs": [],
   "source": [
    "pca(merge('../results/densenet_0.0/param_hist_{}.npz', 10000), 'Densenet Baseline', 'black')\n",
    "pca(merge('../results/densenet_100.0k/param_hist_{}.npz', 10000), 'Densenet 100K', 'blue')\n",
    "pca(merge('../results/densenet_600.0k/param_hist_{}.npz', 10000), 'Densenet 600K', 'red')"
   ]
  },
  {
   "cell_type": "code",
   "execution_count": 53,
   "metadata": {},
   "outputs": [
    {
     "name": "stderr",
     "output_type": "stream",
     "text": [
      "/Users/mgolub2/PycharmProjects/DropBack/chainerenv/lib/python3.7/site-packages/matplotlib/legend.py:508: UserWarning: Automatic legend placement (loc=\"best\") not implemented for figure legend. Falling back on \"upper right\".\n",
      "  warnings.warn('Automatic legend placement (loc=\"best\") not '\n"
     ]
    }
   ],
   "source": [
    "fig.tight_layout()\n",
    "fig.legend(loc='best')\n",
    "fig.savefig('densenet.png')\n",
    "fig.clf()"
   ]
  },
  {
   "cell_type": "code",
   "execution_count": 41,
   "metadata": {},
   "outputs": [
    {
     "data": {
      "text/plain": [
       "'/Users/mgolub2/PycharmProjects/DropBack/pca'"
      ]
     },
     "execution_count": 41,
     "metadata": {},
     "output_type": "execute_result"
    }
   ],
   "source": [
    "ax.plot(merge('../results/densenet_0.0/l2_{}.npz', 10000), label='Baseline', color='black')\n",
    "ax.plot(merge('../results/densenet_0.0/l2_{}.npz', 10000), label='Baseline', color='black')\n",
    "ax.plot(merge('../results/densenet_0.0/l2_{}.npz', 10000), label='Baseline', color='black')"
   ]
  },
  {
   "cell_type": "code",
   "execution_count": null,
   "metadata": {},
   "outputs": [],
   "source": [
    "fig.tight_layout()\n",
    "fig.legend(loc='best')\n",
    "fig.savefig('l2_densenet.png')\n",
    "fig.clf()"
   ]
  }
 ],
 "metadata": {
  "kernelspec": {
   "display_name": "Python 3",
   "language": "python",
   "name": "python3"
  },
  "language_info": {
   "codemirror_mode": {
    "name": "ipython",
    "version": 3
   },
   "file_extension": ".py",
   "mimetype": "text/x-python",
   "name": "python",
   "nbconvert_exporter": "python",
   "pygments_lexer": "ipython3",
   "version": "3.7.2"
  }
 },
 "nbformat": 4,
 "nbformat_minor": 1
}
