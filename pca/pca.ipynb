{
 "cells": [
  {
   "cell_type": "code",
   "execution_count": 91,
   "metadata": {},
   "outputs": [],
   "source": [
    "import matplotlib.pyplot as plt\n",
    "from sklearn.decomposition import PCA\n",
    "import numpy as np\n",
    "from mpl_toolkits.mplot3d import Axes3D\n"
   ]
  },
  {
   "cell_type": "code",
   "execution_count": 103,
   "metadata": {},
   "outputs": [],
   "source": [
    "def pca(raw_data, label, color):\n",
    "    pca = PCA(n_components=3)\n",
    "    pca.fit(raw_data)\n",
    "    data = pca.transform(raw_data)\n",
    "    ax.plot(data[:, 0], data[:, 1], data[:, 2], label=label, color=color)\n",
    "    return data\n"
   ]
  },
  {
   "cell_type": "code",
   "execution_count": 104,
   "metadata": {},
   "outputs": [],
   "source": [
    "def merge(format_str, iterations):\n",
    "    return [np.load(format_str.format(i))['arr_0'] for i in range(0, iterations, 100)]\n",
    "\n"
   ]
  },
  {
   "cell_type": "code",
   "execution_count": 107,
   "metadata": {},
   "outputs": [],
   "source": [
    "fig = plt.figure()\n",
    "ax = fig.add_subplot(111, projection='3d')\n"
   ]
  },
  {
   "cell_type": "code",
   "execution_count": 114,
   "metadata": {},
   "outputs": [],
   "source": [
    "d0 = pca(merge('../results/vgg_0.0/param_hist_{}.npz', 7900), 'VGG Baseline', 'black')\n",
    "dp = pca(merge('../results/vgg_0.0_pruning/param_hist_{}.npz', 7900), 'VGG Pruning 0.8', 'blue')\n",
    "d3 = pca(merge('../results/vgg_3.0M_no_weight/param_hist_{}.npz', 7900), 'VGG DropBack 3M', 'red')\n",
    "d5 = pca(merge('../results/vgg_5.0M_no_weight/param_hist_{}.npz', 7900), 'VGG DropBack 5M', 'green')\n",
    "dvd = pca(merge('../results/vgg_vd_0.0/param_hist_{}.npz', 7900), 'VGG VD', 'yellow')"
   ]
  },
  {
   "cell_type": "code",
   "execution_count": 124,
   "metadata": {},
   "outputs": [
    {
     "name": "stderr",
     "output_type": "stream",
     "text": [
      "/Users/mgolub2/PycharmProjects/DropBack/chainerenv/lib/python3.7/site-packages/matplotlib/legend.py:508: UserWarning: Automatic legend placement (loc=\"best\") not implemented for figure legend. Falling back on \"upper right\".\n",
      "  warnings.warn('Automatic legend placement (loc=\"best\") not '\n"
     ]
    }
   ],
   "source": [
    "plt.close()\n",
    "fig = plt.figure()\n",
    "ax = fig.add_subplot(111, projection='3d')\n",
    "ax.plot(d0[:, 0], d0[:, 1], d0[:, 2], label='VGG Baseline', color='black')\n",
    "ax.plot(dp[:, 0], dp[:, 1], dp[:, 2], label='VGG Pruning 0.8', color='blue')\n",
    "ax.plot(d3[:, 0], d3[:, 1], d3[:, 2], label='VGG DropBack 3M', color='red')\n",
    "ax.plot(d5[:, 0], d5[:, 1], d5[:, 2], label='VGG DropBack 5M', color='green')\n",
    "ax.plot(dvd[:, 0], dvd[:, 1], dvd[:, 2], label='VGG VD', color='yellow')\n",
    "fig.legend(loc='best')\n",
    "fig.savefig('vgg.pdf')\n",
    "plt.close()"
   ]
  },
  {
   "cell_type": "code",
   "execution_count": 116,
   "metadata": {},
   "outputs": [],
   "source": [
    "plt.close()\n",
    "\n"
   ]
  },
  {
   "cell_type": "code",
   "execution_count": 120,
   "metadata": {},
   "outputs": [],
   "source": [
    "def merge_l2(format_str, iterations):\n",
    "    return [np.load(format_str.format(i))['arr_0'] for i in range(0, iterations, 100)]\n"
   ]
  },
  {
   "cell_type": "code",
   "execution_count": 121,
   "metadata": {},
   "outputs": [],
   "source": []
  },
  {
   "cell_type": "code",
   "execution_count": null,
   "metadata": {},
   "outputs": [],
   "source": []
  },
  {
   "cell_type": "code",
   "execution_count": 126,
   "metadata": {},
   "outputs": [],
   "source": [
    "\n",
    "mb = merge_l2('../results/vgg_0.0/l2_{}.npz', 7900)\n",
    "mp = merge_l2('../results/vgg_0.0_pruning/l2_{}.npz', 7900)\n",
    "m3 = merge_l2('../results/vgg_3.0M_no_weight/l2_{}.npz', 7900)\n",
    "m5 = merge_l2('../results/vgg_5.0M_no_weight/l2_{}.npz', 7900)\n",
    "mv = merge_l2('../results/vgg_vd_0.0/l2_{}.npz', 7900)"
   ]
  },
  {
   "cell_type": "code",
   "execution_count": 127,
   "metadata": {},
   "outputs": [
    {
     "name": "stderr",
     "output_type": "stream",
     "text": [
      "No handles with labels found to put in legend.\n",
      "/Users/mgolub2/PycharmProjects/DropBack/chainerenv/lib/python3.7/site-packages/matplotlib/legend.py:508: UserWarning: Automatic legend placement (loc=\"best\") not implemented for figure legend. Falling back on \"upper right\".\n",
      "  warnings.warn('Automatic legend placement (loc=\"best\") not '\n"
     ]
    }
   ],
   "source": [
    "fig = plt.figure()\n",
    "ax = fig.add_subplot(111)\n",
    "ax.plot(mb)\n",
    "ax.plot(mp)\n",
    "ax.plot(m3)\n",
    "ax.plot(m5)\n",
    "ax.plot(mv)\n",
    "fig.tight_layout()\n",
    "fig.legend(loc='best')\n",
    "fig.savefig('l2_vgg.pdf')\n"
   ]
  },
  {
   "cell_type": "code",
   "execution_count": null,
   "metadata": {},
   "outputs": [],
   "source": []
  },
  {
   "cell_type": "code",
   "execution_count": null,
   "metadata": {},
   "outputs": [],
   "source": []
  }
 ],
 "metadata": {
  "kernelspec": {
   "display_name": "Python 3",
   "language": "python",
   "name": "python3"
  },
  "language_info": {
   "codemirror_mode": {
    "name": "ipython",
    "version": 3
   },
   "file_extension": ".py",
   "mimetype": "text/x-python",
   "name": "python",
   "nbconvert_exporter": "python",
   "pygments_lexer": "ipython3",
   "version": "3.7.2"
  }
 },
 "nbformat": 4,
 "nbformat_minor": 1
}
